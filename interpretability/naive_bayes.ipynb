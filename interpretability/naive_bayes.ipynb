{
 "cells": [
  {
   "cell_type": "code",
   "execution_count": 1,
   "metadata": {},
   "outputs": [
    {
     "name": "stderr",
     "output_type": "stream",
     "text": [
      "/home/nicolas/.conda/envs/mosaic/lib/python3.11/site-packages/tqdm/auto.py:21: TqdmWarning: IProgress not found. Please update jupyter and ipywidgets. See https://ipywidgets.readthedocs.io/en/stable/user_install.html\n",
      "  from .autonotebook import tqdm as notebook_tqdm\n",
      "Global seed set to 42\n"
     ]
    },
    {
     "data": {
      "text/plain": [
       "42"
      ]
     },
     "execution_count": 1,
     "metadata": {},
     "output_type": "execute_result"
    }
   ],
   "source": [
    "import sys\n",
    "sys.path.insert(0, \"../\")\n",
    "from pathlib import Path\n",
    "import joblib\n",
    "import lightning as pl\n",
    "\n",
    "import pandas as pd\n",
    "import numpy as np\n",
    "from tqdm import tqdm\n",
    "\n",
    "from artstract_ml.dataset import load_perceptual_dataset\n",
    "\n",
    "pl.seed_everything(42)\n"
   ]
  },
  {
   "attachments": {},
   "cell_type": "markdown",
   "metadata": {},
   "source": [
    "## Interpret Naive Bayes"
   ]
  },
  {
   "cell_type": "code",
   "execution_count": 27,
   "metadata": {},
   "outputs": [],
   "source": [
    "train, valid, test = load_perceptual_dataset(Path(\"../exaplainability_samples/perception.json\"))\n",
    "clf_d = joblib.load(\"../output/nb/clf.joblib\")\n",
    "clf = clf_d[\"clf\"]\n",
    "fe = clf_d[\"fe\"]\n",
    "le = clf_d[\"le\"]"
   ]
  },
  {
   "cell_type": "code",
   "execution_count": 34,
   "metadata": {},
   "outputs": [
    {
     "name": "stdout",
     "output_type": "stream",
     "text": [
      "Predicting sample:  danger_3\n"
     ]
    }
   ],
   "source": [
    "from sklearn.metrics import classification_report\n",
    "\n",
    "true = []\n",
    "nb_pred = []\n",
    "notempty_nb_pred = []\n",
    "\n",
    "sample = test.iloc[1]\n",
    "print(\"Predicting sample: \", sample.id)\n",
    "\n",
    "X_sample = fe.transform(pd.DataFrame(sample[fe.feature_names_in_]).T).toarray()\n",
    "\n",
    "prob = np.outer(clf.feature_log_prob_, X_sample)\n",
    "features_with_value = np.array([\"empty\" not in x for x in fe.get_feature_names_out()])\n",
    "feature_names = fe.get_feature_names_out()[features_with_value]\n",
    "feature_log_probs = np.multiply(X_sample, clf.feature_log_prob_)[:, features_with_value]\n",
    "class_probs = clf.class_log_prior_ + feature_log_probs.sum(axis=1)\n",
    "\n",
    "idxs = feature_log_probs[class_probs.argmax()] < 0"
   ]
  },
  {
   "cell_type": "code",
   "execution_count": 35,
   "metadata": {},
   "outputs": [
    {
     "name": "stdout",
     "output_type": "stream",
     "text": [
      "Class:  comfort\n",
      "color_0_lightgray 0.0227028959599571\n",
      "color_3_dimgray 0.047372184483375046\n",
      "color_2_gray 0.07704683589560242\n",
      "emotion_awe 0.09957096889524496\n",
      "color_1_darkslategray 0.10672148730782986\n",
      "art_style_Post-Impressionism 0.1673221308544869\n",
      "action_sleeping 0.3010368251698249\n",
      "----------\n",
      "Class:  danger\n",
      "color_0_lightgray 0.02552719200887903\n",
      "color_3_dimgray 0.03218645948945617\n",
      "art_style_Post-Impressionism 0.06659267480577136\n",
      "color_2_gray 0.0899001109877914\n",
      "color_1_darkslategray 0.10987791342952276\n",
      "emotion_awe 0.1853496115427304\n",
      "action_sleeping 0.3152053274139846\n",
      "----------\n",
      "Class:  death\n",
      "color_0_lightgray 0.02233902759526939\n",
      "color_3_dimgray 0.02233902759526939\n",
      "art_style_Post-Impressionism 0.06219886114761282\n",
      "color_1_darkslategray 0.08760402978537013\n",
      "color_2_gray 0.13929040735873857\n",
      "emotion_awe 0.18396846254927732\n",
      "action_sleeping 0.3114323258869908\n",
      "----------\n",
      "Class:  fitness\n",
      "color_0_lightgray 0.02291105121293801\n",
      "color_3_dimgray 0.04447439353099731\n",
      "art_style_Post-Impressionism 0.07951482479784369\n",
      "color_2_gray 0.1064690026954178\n",
      "color_1_darkslategray 0.13207547169811326\n",
      "emotion_awe 0.14420485175202152\n",
      "action_sleeping 0.20080862533692725\n",
      "----------\n",
      "Class:  freedom\n",
      "color_0_lightgray 0.022075055187637967\n",
      "color_3_dimgray 0.03311258278145694\n",
      "art_style_Post-Impressionism 0.07505518763796909\n",
      "color_2_gray 0.07505518763796909\n",
      "emotion_awe 0.10596026490066225\n",
      "color_1_darkslategray 0.1103752759381898\n",
      "action_sleeping 0.14348785871964673\n",
      "----------\n",
      "Class:  power\n",
      "color_0_lightgray 0.021828665568369026\n",
      "color_3_dimgray 0.03253706754530477\n",
      "art_style_Post-Impressionism 0.06507413509060954\n",
      "color_2_gray 0.08937397034596375\n",
      "color_1_darkslategray 0.10543657331136733\n",
      "action_sleeping 0.2392915980230641\n",
      "emotion_awe 0.25205930807248755\n",
      "----------\n",
      "Class:  safety\n",
      "color_3_dimgray 0.04424778761061948\n",
      "color_0_lightgray 0.05014749262536875\n",
      "art_style_Post-Impressionism 0.06489675516224193\n",
      "color_2_gray 0.07079646017699118\n",
      "color_1_darkslategray 0.12389380530973457\n",
      "emotion_awe 0.14454277286135697\n",
      "action_sleeping 0.1858407079646018\n",
      "----------\n"
     ]
    }
   ],
   "source": [
    "for idx, c in enumerate(le.classes_):\n",
    "  print(\"Class: \", c)\n",
    "\n",
    "  imp = zip(feature_names[idxs], np.exp(feature_log_probs[idx, idxs]))\n",
    "  imp = sorted(imp, key=lambda x: x[1])\n",
    "  for k, v in imp:\n",
    "    print(k, v)\n",
    "  print(\"-\" * 10)\n",
    "  "
   ]
  }
 ],
 "metadata": {
  "kernelspec": {
   "display_name": "mosaic",
   "language": "python",
   "name": "python3"
  },
  "language_info": {
   "codemirror_mode": {
    "name": "ipython",
    "version": 3
   },
   "file_extension": ".py",
   "mimetype": "text/x-python",
   "name": "python",
   "nbconvert_exporter": "python",
   "pygments_lexer": "ipython3",
   "version": "3.11.3"
  },
  "orig_nbformat": 4
 },
 "nbformat": 4,
 "nbformat_minor": 2
}
